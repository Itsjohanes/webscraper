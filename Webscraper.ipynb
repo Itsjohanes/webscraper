{
  "nbformat": 4,
  "nbformat_minor": 0,
  "metadata": {
    "colab": {
      "provenance": []
    },
    "kernelspec": {
      "name": "python3",
      "display_name": "Python 3"
    },
    "language_info": {
      "name": "python"
    }
  },
  "cells": [
    {
      "cell_type": "markdown",
      "source": [
        "Materi Ajar Webscraper disusun oleh:\n",
        "Johannes Alexander Putra, S.Pd., CSCU, MOS"
      ],
      "metadata": {
        "id": "2ulWEIKXACKO"
      }
    },
    {
      "cell_type": "code",
      "execution_count": 7,
      "metadata": {
        "colab": {
          "base_uri": "https://localhost:8080/"
        },
        "id": "-LYoLeI59l4I",
        "outputId": "eaaeba22-c294-47dc-8136-7d63c5c31c2d"
      },
      "outputs": [
        {
          "output_type": "stream",
          "name": "stdout",
          "text": [
            "<title>SMA Trinitas – SMA Swasta Katolik di Kota Bandung</title>\n"
          ]
        }
      ],
      "source": [
        "import requests\n",
        "from bs4 import BeautifulSoup\n",
        "\n",
        "r = requests.get('https://smatrinitas.sch.id')\n",
        "soup = BeautifulSoup(r.content,'html.parser')\n",
        "\n",
        "print(soup.title)\n"
      ]
    },
    {
      "cell_type": "code",
      "source": [
        "import requests\n",
        "from bs4 import BeautifulSoup\n",
        "\n",
        "r = requests.get('https://smatrinitas.sch.id')\n",
        "soup = BeautifulSoup(r.content,'html.parser')\n",
        "\n",
        "s = soup.find('div',class_=\"entry-content\")\n",
        "content = soup.find_all('p')\n",
        "\n",
        "print(content)\n"
      ],
      "metadata": {
        "colab": {
          "base_uri": "https://localhost:8080/"
        },
        "id": "4UErvZ-o_nZE",
        "outputId": "ae9d7ca4-6dc0-4708-a2c6-abdb07db5e72"
      },
      "execution_count": 8,
      "outputs": [
        {
          "output_type": "stream",
          "name": "stdout",
          "text": [
            "[<p class=\"rs-p-wp-fix\"></p>, <p>Pimpinan sekolah SMA Trinitas</p>, <p>Guru SMA Trinitas</p>, <p>Karyawan &amp; Staff TU SMA Trinitas</p>, <p>Apa kata para alumni selama menjalani masa sekolah yang menyenangkan di SMA Trinitas </p>, <p>Informasi Seputar SMA Trinitas</p>, <p class=\"description\">Subscribe now and receive weekly newsletter with educational materials, new courses, interesting posts, popular books and much more!</p>, <p class=\"text-copyright\">© Copyright 2023 <a class=\"\" href=\"http://www.ypiibandung.or.id\" target=\"_blank\">YPII </a>All Rights Reserved</p>]\n"
          ]
        }
      ]
    }
  ]
}